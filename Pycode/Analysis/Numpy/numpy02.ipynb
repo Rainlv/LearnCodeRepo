{
 "cells": [
  {
   "cell_type": "code",
   "execution_count": 2,
   "metadata": {},
   "outputs": [],
   "source": [
    "import numpy as np"
   ]
  },
  {
   "cell_type": "code",
   "execution_count": 3,
   "metadata": {},
   "outputs": [],
   "source": [
    "a = np.array([1,3,4,56,7,8,np.NAN])"
   ]
  },
  {
   "cell_type": "markdown",
   "metadata": {},
   "source": [
    "### 统计"
   ]
  },
  {
   "cell_type": "code",
   "execution_count": 4,
   "metadata": {},
   "outputs": [
    {
     "data": {
      "text/plain": [
       "nan"
      ]
     },
     "execution_count": 4,
     "metadata": {},
     "output_type": "execute_result"
    }
   ],
   "source": [
    "a.sum()"
   ]
  },
  {
   "cell_type": "code",
   "execution_count": 5,
   "metadata": {},
   "outputs": [
    {
     "data": {
      "text/plain": [
       "79.0"
      ]
     },
     "execution_count": 5,
     "metadata": {},
     "output_type": "execute_result"
    }
   ],
   "source": [
    "np.nansum(a) # 忽略nan求和"
   ]
  },
  {
   "cell_type": "code",
   "execution_count": 7,
   "metadata": {},
   "outputs": [
    {
     "data": {
      "text/plain": [
       "array([-1.,  1., -1.,  1., -1.,  1., -1.])"
      ]
     },
     "execution_count": 7,
     "metadata": {},
     "output_type": "execute_result"
    }
   ],
   "source": [
    "f = np.ones(7)\n",
    "f[::2] = -1\n",
    "f"
   ]
  },
  {
   "cell_type": "code",
   "execution_count": 9,
   "metadata": {},
   "outputs": [],
   "source": [
    "b = np.random.randint(0,10,size = 7)"
   ]
  },
  {
   "cell_type": "code",
   "execution_count": 12,
   "metadata": {},
   "outputs": [
    {
     "data": {
      "text/plain": [
       "array([[ 1.        , -0.86485684],\n",
       "       [-0.86485684,  1.        ]])"
      ]
     },
     "execution_count": 12,
     "metadata": {},
     "output_type": "execute_result"
    }
   ],
   "source": [
    "np.corrcoef(b,f) # 相关性系数"
   ]
  },
  {
   "cell_type": "markdown",
   "metadata": {},
   "source": [
    "              b    f\n",
    "    b         1    -0.86485684   \n",
    "\n",
    "    f       -0.86485684  1"
   ]
  },
  {
   "cell_type": "code",
   "execution_count": 13,
   "metadata": {},
   "outputs": [],
   "source": [
    "nd = np.random.randint(0,100,size=100)"
   ]
  },
  {
   "cell_type": "code",
   "execution_count": 14,
   "metadata": {},
   "outputs": [
    {
     "data": {
      "text/plain": [
       "(array([12, 10, 10,  6, 12, 14, 12,  8, 11,  5], dtype=int64),\n",
       " array([ 0. ,  9.8, 19.6, 29.4, 39.2, 49. , 58.8, 68.6, 78.4, 88.2, 98. ]))"
      ]
     },
     "execution_count": 14,
     "metadata": {},
     "output_type": "execute_result"
    }
   ],
   "source": [
    "np.histogram(nd,bins=10)  # 直方图，bins表示分成的份数"
   ]
  },
  {
   "cell_type": "markdown",
   "metadata": {},
   "source": [
    "    第一行是出现的次数\n",
    "    第二行是数据范围"
   ]
  },
  {
   "cell_type": "code",
   "execution_count": 16,
   "metadata": {},
   "outputs": [
    {
     "data": {
      "text/plain": [
       "(array([26, 23, 30, 20,  1], dtype=int64),\n",
       " array([  0.,  24.,  48.,  72.,  96., 120.]))"
      ]
     },
     "execution_count": 16,
     "metadata": {},
     "output_type": "execute_result"
    }
   ],
   "source": [
    "np.histogram(nd,bins=5,range=[0,120]) # range是规定横坐标范围的"
   ]
  },
  {
   "cell_type": "markdown",
   "metadata": {},
   "source": [
    "### IO操作"
   ]
  },
  {
   "cell_type": "code",
   "execution_count": 17,
   "metadata": {},
   "outputs": [],
   "source": [
    "np.save('data.npy',nd) # 保存为np\n",
    "二进制形式，.npy后缀"
   ]
  },
  {
   "cell_type": "code",
   "execution_count": 18,
   "metadata": {},
   "outputs": [
    {
     "data": {
      "text/plain": [
       "array([63, 48, 66, 13, 53, 70, 86, 68, 35, 69, 95, 53, 46, 80, 41, 93, 19,\n",
       "        1, 68, 56, 57, 13, 28, 25, 49,  1, 46, 73, 25, 45, 68, 16, 98, 23,\n",
       "       20, 78, 39, 19, 58, 10, 45,  5, 23, 87, 58, 18,  4, 59,  9, 22,  0,\n",
       "       71,  8, 63, 60, 54, 80, 46, 84, 57, 14, 58, 90, 27, 46, 12, 68, 31,\n",
       "       87, 42, 34, 62, 94, 25, 43, 87,  3, 54, 63, 52,  7,  0, 73, 75,  5,\n",
       "       83,  7, 86, 25, 64, 35, 85, 79, 76, 41, 51, 35, 16, 51, 41])"
      ]
     },
     "execution_count": 18,
     "metadata": {},
     "output_type": "execute_result"
    }
   ],
   "source": [
    "np.load('data.npy') # 读取数据"
   ]
  },
  {
   "cell_type": "code",
   "execution_count": 20,
   "metadata": {},
   "outputs": [],
   "source": [
    "np.savetxt('data.txt',nd) # 保存为txt形式，默认科学计数法保存"
   ]
  },
  {
   "cell_type": "code",
   "execution_count": 21,
   "metadata": {},
   "outputs": [
    {
     "data": {
      "text/plain": [
       "array([63., 48., 66., 13., 53., 70., 86., 68., 35., 69., 95., 53., 46.,\n",
       "       80., 41., 93., 19.,  1., 68., 56., 57., 13., 28., 25., 49.,  1.,\n",
       "       46., 73., 25., 45., 68., 16., 98., 23., 20., 78., 39., 19., 58.,\n",
       "       10., 45.,  5., 23., 87., 58., 18.,  4., 59.,  9., 22.,  0., 71.,\n",
       "        8., 63., 60., 54., 80., 46., 84., 57., 14., 58., 90., 27., 46.,\n",
       "       12., 68., 31., 87., 42., 34., 62., 94., 25., 43., 87.,  3., 54.,\n",
       "       63., 52.,  7.,  0., 73., 75.,  5., 83.,  7., 86., 25., 64., 35.,\n",
       "       85., 79., 76., 41., 51., 35., 16., 51., 41.])"
      ]
     },
     "execution_count": 21,
     "metadata": {},
     "output_type": "execute_result"
    }
   ],
   "source": [
    "np.loadtxt('data.txt') "
   ]
  },
  {
   "cell_type": "markdown",
   "metadata": {},
   "source": [
    " ### 矩阵运算"
   ]
  },
  {
   "cell_type": "markdown",
   "metadata": {},
   "source": [
    "x + y + z = 8\n",
    "2x - y + z = 8\n",
    "3x + y - z = 2"
   ]
  },
  {
   "cell_type": "code",
   "execution_count": 23,
   "metadata": {},
   "outputs": [
    {
     "data": {
      "text/plain": [
       "array([[ 1,  1,  1],\n",
       "       [ 2, -1,  1],\n",
       "       [ 3,  1, -1]])"
      ]
     },
     "execution_count": 23,
     "metadata": {},
     "output_type": "execute_result"
    }
   ],
   "source": [
    "X = np.array([[1,1,1],[2,-1,1],[3,1,-1]])\n",
    "X"
   ]
  },
  {
   "cell_type": "code",
   "execution_count": 25,
   "metadata": {},
   "outputs": [
    {
     "data": {
      "text/plain": [
       "array([8, 8, 2])"
      ]
     },
     "execution_count": 25,
     "metadata": {},
     "output_type": "execute_result"
    }
   ],
   "source": [
    "Y = np.array([8,8,2])\n",
    "Y"
   ]
  },
  {
   "cell_type": "code",
   "execution_count": 26,
   "metadata": {},
   "outputs": [
    {
     "data": {
      "text/plain": [
       "array([[ 0. ,  0.2,  0.2],\n",
       "       [ 0.5, -0.4,  0.1],\n",
       "       [ 0.5,  0.2, -0.3]])"
      ]
     },
     "execution_count": 26,
     "metadata": {},
     "output_type": "execute_result"
    }
   ],
   "source": [
    "# x逆矩阵\n",
    "X_inv = np.linalg.inv(X)\n",
    "X_inv"
   ]
  },
  {
   "cell_type": "code",
   "execution_count": 27,
   "metadata": {},
   "outputs": [
    {
     "data": {
      "text/plain": [
       "array([2., 1., 5.])"
      ]
     },
     "execution_count": 27,
     "metadata": {},
     "output_type": "execute_result"
    }
   ],
   "source": [
    "np.dot(X_inv,Y)  # 矩阵点积"
   ]
  },
  {
   "cell_type": "markdown",
   "metadata": {},
   "source": [
    "     所得的结果即为xyz对应取值"
   ]
  },
  {
   "cell_type": "markdown",
   "metadata": {},
   "source": [
    "  ###  广播机制"
   ]
  },
  {
   "cell_type": "code",
   "execution_count": 28,
   "metadata": {},
   "outputs": [
    {
     "data": {
      "text/plain": [
       "array([63, 48, 66, 13, 53, 70, 86, 68, 35, 69, 95, 53, 46, 80, 41, 93, 19,\n",
       "        1, 68, 56, 57, 13, 28, 25, 49,  1, 46, 73, 25, 45, 68, 16, 98, 23,\n",
       "       20, 78, 39, 19, 58, 10, 45,  5, 23, 87, 58, 18,  4, 59,  9, 22,  0,\n",
       "       71,  8, 63, 60, 54, 80, 46, 84, 57, 14, 58, 90, 27, 46, 12, 68, 31,\n",
       "       87, 42, 34, 62, 94, 25, 43, 87,  3, 54, 63, 52,  7,  0, 73, 75,  5,\n",
       "       83,  7, 86, 25, 64, 35, 85, 79, 76, 41, 51, 35, 16, 51, 41])"
      ]
     },
     "execution_count": 28,
     "metadata": {},
     "output_type": "execute_result"
    }
   ],
   "source": [
    "nd"
   ]
  },
  {
   "cell_type": "code",
   "execution_count": 30,
   "metadata": {
    "collapsed": true
   },
   "outputs": [
    {
     "data": {
      "text/plain": [
       "array([[63, 48, 66, 13, 53],\n",
       "       [70, 86, 68, 35, 69],\n",
       "       [95, 53, 46, 80, 41],\n",
       "       [93, 19,  1, 68, 56],\n",
       "       [57, 13, 28, 25, 49],\n",
       "       [ 1, 46, 73, 25, 45],\n",
       "       [68, 16, 98, 23, 20],\n",
       "       [78, 39, 19, 58, 10],\n",
       "       [45,  5, 23, 87, 58],\n",
       "       [18,  4, 59,  9, 22],\n",
       "       [ 0, 71,  8, 63, 60],\n",
       "       [54, 80, 46, 84, 57],\n",
       "       [14, 58, 90, 27, 46],\n",
       "       [12, 68, 31, 87, 42],\n",
       "       [34, 62, 94, 25, 43],\n",
       "       [87,  3, 54, 63, 52],\n",
       "       [ 7,  0, 73, 75,  5],\n",
       "       [83,  7, 86, 25, 64],\n",
       "       [35, 85, 79, 76, 41],\n",
       "       [51, 35, 16, 51, 41]])"
      ]
     },
     "execution_count": 30,
     "metadata": {},
     "output_type": "execute_result"
    }
   ],
   "source": [
    "nd2 = nd.reshape(20,5)\n",
    "nd2"
   ]
  },
  {
   "cell_type": "code",
   "execution_count": 31,
   "metadata": {},
   "outputs": [
    {
     "data": {
      "text/plain": [
       "array([0, 1, 2, 3, 4])"
      ]
     },
     "execution_count": 31,
     "metadata": {},
     "output_type": "execute_result"
    }
   ],
   "source": [
    "nd3 = np.arange(5)\n",
    "nd3"
   ]
  },
  {
   "cell_type": "code",
   "execution_count": 32,
   "metadata": {
    "collapsed": true
   },
   "outputs": [
    {
     "data": {
      "text/plain": [
       "array([[ 63,  49,  68,  16,  57],\n",
       "       [ 70,  87,  70,  38,  73],\n",
       "       [ 95,  54,  48,  83,  45],\n",
       "       [ 93,  20,   3,  71,  60],\n",
       "       [ 57,  14,  30,  28,  53],\n",
       "       [  1,  47,  75,  28,  49],\n",
       "       [ 68,  17, 100,  26,  24],\n",
       "       [ 78,  40,  21,  61,  14],\n",
       "       [ 45,   6,  25,  90,  62],\n",
       "       [ 18,   5,  61,  12,  26],\n",
       "       [  0,  72,  10,  66,  64],\n",
       "       [ 54,  81,  48,  87,  61],\n",
       "       [ 14,  59,  92,  30,  50],\n",
       "       [ 12,  69,  33,  90,  46],\n",
       "       [ 34,  63,  96,  28,  47],\n",
       "       [ 87,   4,  56,  66,  56],\n",
       "       [  7,   1,  75,  78,   9],\n",
       "       [ 83,   8,  88,  28,  68],\n",
       "       [ 35,  86,  81,  79,  45],\n",
       "       [ 51,  36,  18,  54,  45]])"
      ]
     },
     "execution_count": 32,
     "metadata": {},
     "output_type": "execute_result"
    }
   ],
   "source": [
    "nd2+nd3"
   ]
  },
  {
   "cell_type": "code",
   "execution_count": 33,
   "metadata": {
    "collapsed": true
   },
   "outputs": [
    {
     "data": {
      "text/plain": [
       "array([[ 63,  49,  68,  16,  57],\n",
       "       [ 70,  87,  70,  38,  73],\n",
       "       [ 95,  54,  48,  83,  45],\n",
       "       [ 93,  20,   3,  71,  60],\n",
       "       [ 57,  14,  30,  28,  53],\n",
       "       [  1,  47,  75,  28,  49],\n",
       "       [ 68,  17, 100,  26,  24],\n",
       "       [ 78,  40,  21,  61,  14],\n",
       "       [ 45,   6,  25,  90,  62],\n",
       "       [ 18,   5,  61,  12,  26],\n",
       "       [  0,  72,  10,  66,  64],\n",
       "       [ 54,  81,  48,  87,  61],\n",
       "       [ 14,  59,  92,  30,  50],\n",
       "       [ 12,  69,  33,  90,  46],\n",
       "       [ 34,  63,  96,  28,  47],\n",
       "       [ 87,   4,  56,  66,  56],\n",
       "       [  7,   1,  75,  78,   9],\n",
       "       [ 83,   8,  88,  28,  68],\n",
       "       [ 35,  86,  81,  79,  45],\n",
       "       [ 51,  36,  18,  54,  45]])"
      ]
     },
     "execution_count": 33,
     "metadata": {},
     "output_type": "execute_result"
    }
   ],
   "source": [
    "np.add(nd2,nd3)"
   ]
  },
  {
   "cell_type": "markdown",
   "metadata": {},
   "source": [
    "### 排序"
   ]
  },
  {
   "cell_type": "code",
   "execution_count": 35,
   "metadata": {},
   "outputs": [
    {
     "data": {
      "text/plain": [
       "array([63, 48, 66, 13, 53, 70, 86, 68, 35, 69, 95, 53, 46, 80, 41, 93, 19,\n",
       "        1, 68, 56, 57, 13, 28, 25, 49,  1, 46, 73, 25, 45, 68, 16, 98, 23,\n",
       "       20, 78, 39, 19, 58, 10, 45,  5, 23, 87, 58, 18,  4, 59,  9, 22,  0,\n",
       "       71,  8, 63, 60, 54, 80, 46, 84, 57, 14, 58, 90, 27, 46, 12, 68, 31,\n",
       "       87, 42, 34, 62, 94, 25, 43, 87,  3, 54, 63, 52,  7,  0, 73, 75,  5,\n",
       "       83,  7, 86, 25, 64, 35, 85, 79, 76, 41, 51, 35, 16, 51, 41])"
      ]
     },
     "execution_count": 35,
     "metadata": {},
     "output_type": "execute_result"
    }
   ],
   "source": [
    "nd"
   ]
  },
  {
   "cell_type": "code",
   "execution_count": 36,
   "metadata": {},
   "outputs": [
    {
     "data": {
      "text/plain": [
       "array([ 0,  0,  1,  1,  3,  4,  5,  5,  7,  7,  8,  9, 10, 12, 13, 13, 14,\n",
       "       16, 16, 18, 19, 19, 20, 22, 23, 23, 25, 25, 25, 25, 27, 28, 31, 34,\n",
       "       35, 35, 35, 39, 41, 41, 41, 42, 43, 45, 45, 46, 46, 46, 46, 48, 49,\n",
       "       51, 51, 52, 53, 53, 54, 54, 56, 57, 57, 58, 58, 58, 59, 60, 62, 63,\n",
       "       63, 63, 64, 66, 68, 68, 68, 68, 69, 70, 71, 73, 73, 75, 76, 78, 79,\n",
       "       80, 80, 83, 84, 85, 86, 86, 87, 87, 87, 90, 93, 94, 95, 98])"
      ]
     },
     "execution_count": 36,
     "metadata": {},
     "output_type": "execute_result"
    }
   ],
   "source": [
    "np.sort(nd)"
   ]
  },
  {
   "cell_type": "code",
   "execution_count": null,
   "metadata": {},
   "outputs": [],
   "source": [
    "nd.sort()"
   ]
  },
  {
   "cell_type": "code",
   "execution_count": 40,
   "metadata": {
    "scrolled": true
   },
   "outputs": [
    {
     "data": {
      "text/plain": [
       "array([ 0,  0,  1,  1,  3,  4,  5,  5,  7,  7,  8,  9, 10, 12, 13, 13, 14,\n",
       "       16, 16, 18, 19, 19, 20, 22, 23, 23, 25, 25, 25, 25, 27, 28, 31, 34,\n",
       "       35, 35, 35, 39, 41, 41, 41, 42, 43, 45, 45, 46, 46, 46, 46, 48, 49,\n",
       "       51, 51, 52, 53, 53, 54, 54, 56, 57, 57, 58, 58, 58, 59, 60, 62, 63,\n",
       "       63, 63, 64, 66, 68, 68, 68, 68, 69, 70, 71, 73, 73, 75, 76, 78, 79,\n",
       "       80, 80, 83, 84, 85, 86, 86, 87, 87, 87, 90, 93, 94, 95, 98])"
      ]
     },
     "execution_count": 40,
     "metadata": {},
     "output_type": "execute_result"
    }
   ],
   "source": [
    "nd"
   ]
  },
  {
   "cell_type": "markdown",
   "metadata": {},
   "source": [
    "#### 部分排序"
   ]
  },
  {
   "cell_type": "code",
   "execution_count": 43,
   "metadata": {},
   "outputs": [
    {
     "data": {
      "text/plain": [
       "array([1432, 8188, 7575, 4187, 9853, 1888, 4377, 4496, 8850, 8873, 8008,\n",
       "       1122, 4505, 4042, 6404,   96, 3995, 3271, 3980, 9757, 1626, 5297,\n",
       "       8059,  220, 4286, 4036, 8433, 7494, 5979,  143, 9196, 5067,  970,\n",
       "       1148,  940, 7814, 4653, 8026, 1961, 5040, 9622, 6031, 7597,  353,\n",
       "       9239, 3933, 9496, 9817, 9500, 9564, 9288, 6829,  720, 8265, 7501,\n",
       "       7369, 6202,  979, 3895, 8890, 8494, 9334,  442, 7591,  610, 4019,\n",
       "        655, 5636, 4864, 5367, 8966, 7984, 6464, 9326, 2154, 2837, 1080,\n",
       "       6465, 6843, 9816, 9817,  830, 1577, 9913, 2538, 6697, 4643, 6177,\n",
       "       1748, 1172,  409, 2349, 4019, 5355, 3173, 7129, 4620, 7097,  415,\n",
       "       4367])"
      ]
     },
     "execution_count": 43,
     "metadata": {},
     "output_type": "execute_result"
    }
   ],
   "source": [
    "nk = np.random.randint(0,10000,size=100)\n",
    "nk"
   ]
  },
  {
   "cell_type": "code",
   "execution_count": 44,
   "metadata": {
    "scrolled": true
   },
   "outputs": [
    {
     "data": {
      "text/plain": [
       "array([ 143,   96,  220,  353,  409,  415,  442,  655,  610,  720,  830,\n",
       "       1122, 2538, 4042, 1577, 1748, 3995, 3271, 3980, 1432, 1626, 1080,\n",
       "       2837, 1172, 4286, 4036, 2154, 2349, 4019, 4019, 1888, 3173,  970,\n",
       "       1148,  940, 3895,  979, 4187, 1961, 3933, 4367, 6031, 7597, 9622,\n",
       "       9239, 5040, 9496, 9817, 9500, 8188, 9288, 6829, 8026, 8265, 7501,\n",
       "       7369, 6202, 4653, 7814, 8890, 8494, 9334, 5067, 7591, 9196, 5979,\n",
       "       7494, 5636, 4864, 5367, 8966, 7984, 6464, 9326, 8433, 8059, 5297,\n",
       "       6465, 6843, 9816, 9817, 9757, 6404, 9913, 4505, 6697, 4643, 6177,\n",
       "       8008, 8873, 8850, 4496, 4377, 5355, 9853, 7129, 4620, 7097, 7575,\n",
       "       9564])"
      ]
     },
     "execution_count": 44,
     "metadata": {},
     "output_type": "execute_result"
    }
   ],
   "source": [
    "np.partition(nk,kth = 5)  # 前五个为最小值"
   ]
  },
  {
   "cell_type": "code",
   "execution_count": 45,
   "metadata": {},
   "outputs": [
    {
     "data": {
      "text/plain": [
       "array([9816, 9853, 9817, 9817, 9913])"
      ]
     },
     "execution_count": 45,
     "metadata": {},
     "output_type": "execute_result"
    }
   ],
   "source": [
    "np.partition(nk,kth = -5)[-5:] # 取出最大的5个数"
   ]
  }
 ],
 "metadata": {
  "kernelspec": {
   "display_name": "Python 3",
   "language": "python",
   "name": "python3"
  },
  "language_info": {
   "codemirror_mode": {
    "name": "ipython",
    "version": 3
   },
   "file_extension": ".py",
   "mimetype": "text/x-python",
   "name": "python",
   "nbconvert_exporter": "python",
   "pygments_lexer": "ipython3",
   "version": "3.7.4"
  }
 },
 "nbformat": 4,
 "nbformat_minor": 2
}
