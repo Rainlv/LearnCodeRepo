{
 "cells": [
  {
   "cell_type": "code",
   "execution_count": 1,
   "metadata": {},
   "outputs": [],
   "source": [
    "import numpy as np\n",
    "import cv2"
   ]
  },
  {
   "cell_type": "code",
   "execution_count": 4,
   "metadata": {},
   "outputs": [],
   "source": [
    "g1 = cv2.imread('girl1.jpg')\n",
    "\n",
    "# 人脸数据，级联分类器，给人脸特征数据，返回可以识别人脸的对象\n",
    "detector = cv2.CascadeClassifier('haarcascade_frontalface_default.xml')"
   ]
  },
  {
   "cell_type": "code",
   "execution_count": 6,
   "metadata": {},
   "outputs": [],
   "source": [
    "# 识别图片人脸\n",
    "face_zone = detector.detectMultiScale(g1)\n",
    "face_zone\n",
    "\n",
    "# 人脸区域画红色正方形\n",
    "for x,y,w,h in face_zone:\n",
    "    cv2.rectangle(g1,pt1=(x,y),pt2=(x+w,y+h),color=[0,0,255])\n",
    "    \n",
    "cv2.imshow('g',g1)\n",
    "cv2.waitKey(0)\n",
    "cv2.destroyAllWindows()"
   ]
  },
  {
   "cell_type": "markdown",
   "metadata": {},
   "source": [
    "### 一些参数的设置"
   ]
  },
  {
   "cell_type": "code",
   "execution_count": 42,
   "metadata": {},
   "outputs": [],
   "source": [
    "n = cv2.imread('r_girl.jpg')\n",
    "\n",
    "detector = cv2.CascadeClassifier('haarcascade_frontalface_default.xml')\n",
    "\n",
    "face_zone = detector.detectMultiScale(n,scaleFactor= 1.3,minNeighbors=5,minSize=(20,20),maxSize=(200,200))\n",
    "# scaleFactor参数和minNeighbors参数可以调整识别到人脸,minsSize、maxSize过滤识别到的人脸大小\n",
    "\n",
    "# 人脸区域画红色正方形\n",
    "for x,y,w,h in face_zone:\n",
    "    cv2.rectangle(n,pt1=(x,y),pt2=(x+w,y+h),color=[0,255,0])\n",
    "    \n",
    "cv2.imshow('r_',n)\n",
    "cv2.waitKey(0)\n",
    "cv2.destroyAllWindows()"
   ]
  },
  {
   "cell_type": "code",
   "execution_count": 45,
   "metadata": {},
   "outputs": [],
   "source": [
    "n = cv2.imread('r_girl.jpg')\n",
    "\n",
    "gray = cv2.cvtColor(n,code=6)\n",
    "\n",
    "detector = cv2.CascadeClassifier('haarcascade_frontalface_default.xml')\n",
    "\n",
    "face_zone = detector.detectMultiScale(n,scaleFactor= 1.3,minNeighbors=5,minSize=(20,20),maxSize=(200,200))\n",
    "# scaleFactor参数和minNeighbors参数可以调整识别到人脸,minsSize、maxSize过滤识别到的人脸大小\n",
    "\n",
    "# 人脸区域画正方形\n",
    "for x,y,w,h in face_zone:\n",
    "    color = np.random.randint(0,256,size=3)\n",
    "    cv2.rectangle(gray,pt1=(x,y),pt2=(x+w,y+h),color=[0,255,0])\n",
    "    cv2.circle(gray,center=(x+w//2,y+h//2),color=color.tolist(),radius=w//2,thickness=2)\n",
    "    \n",
    "cv2.imshow('r_',gray)\n",
    "cv2.waitKey(0)\n",
    "cv2.destroyAllWindows()"
   ]
  }
 ],
 "metadata": {
  "kernelspec": {
   "display_name": "Python 3",
   "language": "python",
   "name": "python3"
  },
  "language_info": {
   "codemirror_mode": {
    "name": "ipython",
    "version": 3
   },
   "file_extension": ".py",
   "mimetype": "text/x-python",
   "name": "python",
   "nbconvert_exporter": "python",
   "pygments_lexer": "ipython3",
   "version": "3.7.4"
  }
 },
 "nbformat": 4,
 "nbformat_minor": 2
}
