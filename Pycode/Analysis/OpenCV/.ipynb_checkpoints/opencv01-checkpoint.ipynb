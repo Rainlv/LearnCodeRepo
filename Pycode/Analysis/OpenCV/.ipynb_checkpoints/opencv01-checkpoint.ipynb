{
 "cells": [
  {
   "cell_type": "code",
   "execution_count": 2,
   "metadata": {},
   "outputs": [],
   "source": [
    "import cv2\n",
    "import numpy as np"
   ]
  },
  {
   "cell_type": "code",
   "execution_count": 3,
   "metadata": {
    "collapsed": true
   },
   "outputs": [
    {
     "data": {
      "text/plain": [
       "array([[[177, 205, 175],\n",
       "        [129, 158, 125],\n",
       "        [132, 163, 130],\n",
       "        ...,\n",
       "        [134, 178, 147],\n",
       "        [136, 180, 149],\n",
       "        [138, 182, 151]],\n",
       "\n",
       "       [[135, 163, 133],\n",
       "        [ 82, 111,  78],\n",
       "        [ 77, 109,  74],\n",
       "        ...,\n",
       "        [ 89, 133, 102],\n",
       "        [ 91, 135, 104],\n",
       "        [ 93, 137, 106]],\n",
       "\n",
       "       [[139, 170, 137],\n",
       "        [ 83, 115,  80],\n",
       "        [ 75, 108,  71],\n",
       "        ...,\n",
       "        [ 83, 127,  96],\n",
       "        [ 85, 129,  98],\n",
       "        [ 87, 131, 100]],\n",
       "\n",
       "       ...,\n",
       "\n",
       "       [[120, 161, 146],\n",
       "        [ 63, 106,  91],\n",
       "        [ 58, 101,  86],\n",
       "        ...,\n",
       "        [ 71,  98,  88],\n",
       "        [ 72,  99,  89],\n",
       "        [ 73, 100,  90]],\n",
       "\n",
       "       [[119, 160, 145],\n",
       "        [ 63, 106,  91],\n",
       "        [ 59, 102,  87],\n",
       "        ...,\n",
       "        [ 71,  98,  88],\n",
       "        [ 73, 100,  90],\n",
       "        [ 74, 101,  91]],\n",
       "\n",
       "       [[122, 163, 148],\n",
       "        [ 67, 110,  95],\n",
       "        [ 64, 107,  92],\n",
       "        ...,\n",
       "        [ 75, 102,  92],\n",
       "        [ 77, 104,  94],\n",
       "        [ 78, 105,  95]]], dtype=uint8)"
      ]
     },
     "execution_count": 3,
     "metadata": {},
     "output_type": "execute_result"
    }
   ],
   "source": [
    "g1 = cv2.imread('girl1.jpg')\n",
    "g1"
   ]
  },
  {
   "cell_type": "code",
   "execution_count": 4,
   "metadata": {},
   "outputs": [
    {
     "data": {
      "text/plain": [
       "(1350, 900, 3)"
      ]
     },
     "execution_count": 4,
     "metadata": {},
     "output_type": "execute_result"
    }
   ],
   "source": [
    "g1.shape"
   ]
  },
  {
   "cell_type": "code",
   "execution_count": 5,
   "metadata": {},
   "outputs": [],
   "source": [
    "cv2.imshow('girl',g1)  # 若只执行这一行会出现程序崩溃,第一个参数是窗口title\n",
    "\n",
    "cv2.waitKey(0)   #等待键盘输入退出，单位毫秒，如果是0，无限等待\n",
    "\n",
    "cv2.destroyAllWindows() # 关闭窗口"
   ]
  },
  {
   "cell_type": "code",
   "execution_count": 11,
   "metadata": {},
   "outputs": [],
   "source": [
    "# 图片颜色转换\n",
    "g2 = cv2.cvtColor(g1,code= cv2.COLOR_BGR2GRAY)  # BGR 蓝绿红\n",
    "\n",
    "cv2.imshow('gray',g2)\n",
    "cv2.waitKey(0)\n",
    "cv2.destroyAllWindows()"
   ]
  },
  {
   "cell_type": "code",
   "execution_count": 26,
   "metadata": {},
   "outputs": [
    {
     "data": {
      "text/plain": [
       "6"
      ]
     },
     "execution_count": 26,
     "metadata": {},
     "output_type": "execute_result"
    }
   ],
   "source": [
    "cv2.COLOR_BGR2GRAY # 是个常量"
   ]
  },
  {
   "cell_type": "code",
   "execution_count": 13,
   "metadata": {},
   "outputs": [
    {
     "data": {
      "text/plain": [
       "True"
      ]
     },
     "execution_count": 13,
     "metadata": {},
     "output_type": "execute_result"
    }
   ],
   "source": [
    "cv2.imwrite('./gray_girl.jpg',g2)  # 保存图片"
   ]
  },
  {
   "cell_type": "code",
   "execution_count": 14,
   "metadata": {},
   "outputs": [
    {
     "data": {
      "text/plain": [
       "(1350, 900, 3)"
      ]
     },
     "execution_count": 14,
     "metadata": {},
     "output_type": "execute_result"
    }
   ],
   "source": [
    "g1.shape"
   ]
  },
  {
   "cell_type": "code",
   "execution_count": 22,
   "metadata": {},
   "outputs": [
    {
     "data": {
      "text/plain": [
       "(600, 400, 3)"
      ]
     },
     "execution_count": 22,
     "metadata": {},
     "output_type": "execute_result"
    }
   ],
   "source": [
    "g3 = cv2.resize(g1,dsize=(400,600)) # 400,800对应高和宽\n",
    "g3.shape "
   ]
  },
  {
   "cell_type": "code",
   "execution_count": 24,
   "metadata": {},
   "outputs": [
    {
     "data": {
      "text/plain": [
       "97"
      ]
     },
     "execution_count": 24,
     "metadata": {},
     "output_type": "execute_result"
    }
   ],
   "source": [
    "ord('a')  # 转ASCII码"
   ]
  },
  {
   "cell_type": "code",
   "execution_count": 25,
   "metadata": {},
   "outputs": [],
   "source": [
    "cv2.imshow('gray',g3)\n",
    "\n",
    "# 键盘输入退出图片\n",
    "while True:\n",
    "    if ord('q') == cv2.waitKey(3000):\n",
    "        break\n",
    "\n",
    "cv2.destroyAllWindows()"
   ]
  }
 ],
 "metadata": {
  "kernelspec": {
   "display_name": "Python 3",
   "language": "python",
   "name": "python3"
  },
  "language_info": {
   "codemirror_mode": {
    "name": "ipython",
    "version": 3
   },
   "file_extension": ".py",
   "mimetype": "text/x-python",
   "name": "python",
   "nbconvert_exporter": "python",
   "pygments_lexer": "ipython3",
   "version": "3.7.4"
  }
 },
 "nbformat": 4,
 "nbformat_minor": 2
}
