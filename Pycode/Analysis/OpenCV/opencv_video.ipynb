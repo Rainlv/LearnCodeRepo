{
 "cells": [
  {
   "cell_type": "code",
   "execution_count": 2,
   "metadata": {},
   "outputs": [],
   "source": [
    "import numpy as np\n",
    "import cv2"
   ]
  },
  {
   "cell_type": "code",
   "execution_count": 14,
   "metadata": {
    "scrolled": true
   },
   "outputs": [
    {
     "data": {
      "text/plain": [
       "<VideoCapture 0000028C2500DF90>"
      ]
     },
     "execution_count": 14,
     "metadata": {},
     "output_type": "execute_result"
    }
   ],
   "source": [
    "vd = cv2.VideoCapture('vd.mp4')\n",
    "vd"
   ]
  },
  {
   "cell_type": "code",
   "execution_count": 4,
   "metadata": {},
   "outputs": [
    {
     "name": "stdout",
     "output_type": "stream",
     "text": [
      "True (640, 360, 3)\n"
     ]
    }
   ],
   "source": [
    "flag,frame = vd.read()  # 读取一帧视频，返回一个bool和一个数组\n",
    "print(flag,frame.shape)"
   ]
  },
  {
   "cell_type": "code",
   "execution_count": 5,
   "metadata": {},
   "outputs": [],
   "source": [
    "cv2.imshow('dan',frame)\n",
    "\n",
    "cv2.waitKey(0)\n",
    "\n",
    "cv2.destroyAllWindows()"
   ]
  },
  {
   "cell_type": "code",
   "execution_count": 6,
   "metadata": {},
   "outputs": [
    {
     "data": {
      "text/plain": [
       "25.0"
      ]
     },
     "execution_count": 6,
     "metadata": {},
     "output_type": "execute_result"
    }
   ],
   "source": [
    "vd.get(propId=cv2.CAP_PROP_FPS)  # 查看视频帧率"
   ]
  },
  {
   "cell_type": "code",
   "execution_count": 7,
   "metadata": {},
   "outputs": [
    {
     "data": {
      "text/plain": [
       "16.666666666666668"
      ]
     },
     "execution_count": 7,
     "metadata": {},
     "output_type": "execute_result"
    }
   ],
   "source": [
    "1000/60"
   ]
  },
  {
   "cell_type": "code",
   "execution_count": 8,
   "metadata": {},
   "outputs": [
    {
     "data": {
      "text/plain": [
       "2026.0"
      ]
     },
     "execution_count": 8,
     "metadata": {},
     "output_type": "execute_result"
    }
   ],
   "source": [
    "vd.get(propId=cv2.CAP_PROP_FRAME_COUNT) # 返回视频对象有多少帧"
   ]
  },
  {
   "cell_type": "code",
   "execution_count": 15,
   "metadata": {},
   "outputs": [
    {
     "data": {
      "text/plain": [
       "640.0"
      ]
     },
     "execution_count": 15,
     "metadata": {},
     "output_type": "execute_result"
    }
   ],
   "source": [
    "h = vd.get(propId=cv2.CAP_PROP_FRAME_HEIGHT) \n",
    "h"
   ]
  },
  {
   "cell_type": "code",
   "execution_count": 17,
   "metadata": {},
   "outputs": [
    {
     "data": {
      "text/plain": [
       "360.0"
      ]
     },
     "execution_count": 17,
     "metadata": {},
     "output_type": "execute_result"
    }
   ],
   "source": [
    "w = vd.get(propId=cv2.CAP_PROP_FRAME_WIDTH)\n",
    "w"
   ]
  },
  {
   "cell_type": "code",
   "execution_count": null,
   "metadata": {},
   "outputs": [],
   "source": []
  },
  {
   "cell_type": "code",
   "execution_count": 20,
   "metadata": {},
   "outputs": [],
   "source": [
    "\n",
    "vd = cv2.VideoCapture(0) # 参数传0会调用摄像头\n",
    "\n",
    "detector = cv2.CascadeClassifier('./haarcascade_frontalface_default.xml')\n",
    "\n",
    "w = int(vd.get(propId=cv2.CAP_PROP_FRAME_WIDTH))+1\n",
    "h = int(vd.get(propId=cv2.CAP_PROP_FRAME_HEIGHT))+1\n",
    "\n",
    "\n",
    "# 创建write对象\n",
    "# 保存格式与fourcc通道对应详细百度，25指的是fps，（w，h）是视频宽高\n",
    "# videoWriter = cv2.VideoWriter('rv.avi',cv2.VideoWriter_fourcc('M','P','4','2'),25,(w,h))\n",
    "videoWriter = cv2.VideoWriter('rv.mp4',cv2.VideoWriter_fourcc('M','P','4','v'),25,(w,h))\n",
    "\n",
    "while vd.isOpened():\n",
    "    \n",
    "    flag,frame = vd.read()\n",
    "    \n",
    "    if flag == False:\n",
    "        break\n",
    "    \n",
    "    # 识别人脸\n",
    "    gray = cv2.cvtColor(frame,code = cv2.COLOR_BGR2GRAY)\n",
    "    \n",
    "    face_zone = detector.detectMultiScale(gray,scaleFactor = 1.2,minNeighbors = 5)\n",
    "    \n",
    "    for x,y,w,h in face_zone:\n",
    "        cv2.circle(frame,center = (x+w//2,y+h//2),radius = w//2,color = [0,0,255],thickness= 2)\n",
    "    # -------------------------\n",
    "    \n",
    "    # 调用write对象，视频写入\n",
    "    videoWriter.write(frame)\n",
    "    \n",
    "    \n",
    "    # 视频逐帧播放\n",
    "    if flag == False:\n",
    "        break\n",
    "    cv2.imshow('dan',frame)\n",
    "\n",
    "    if ord('q') == cv2.waitKey(17):  # 参数调整播放速度\n",
    "        break\n",
    "        \n",
    "cv2.destroyAllWindows()\n",
    "vd.release()\n",
    "videoWriter.release()"
   ]
  },
  {
   "cell_type": "code",
   "execution_count": null,
   "metadata": {},
   "outputs": [],
   "source": []
  },
  {
   "cell_type": "code",
   "execution_count": null,
   "metadata": {},
   "outputs": [],
   "source": []
  }
 ],
 "metadata": {
  "kernelspec": {
   "display_name": "Python 3",
   "language": "python",
   "name": "python3"
  },
  "language_info": {
   "codemirror_mode": {
    "name": "ipython",
    "version": 3
   },
   "file_extension": ".py",
   "mimetype": "text/x-python",
   "name": "python",
   "nbconvert_exporter": "python",
   "pygments_lexer": "ipython3",
   "version": "3.7.4"
  }
 },
 "nbformat": 4,
 "nbformat_minor": 2
}
