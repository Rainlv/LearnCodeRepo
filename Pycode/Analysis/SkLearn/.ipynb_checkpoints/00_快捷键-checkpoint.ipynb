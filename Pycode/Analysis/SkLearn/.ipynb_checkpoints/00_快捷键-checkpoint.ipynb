{
 "cells": [
  {
   "cell_type": "markdown",
   "metadata": {},
   "source": [
    "## 命令模式 (按键 Esc 开启)\n",
    "  \n",
    "- Enter : 转入编辑模式  \n",
    "\n",
    "\n",
    "- Shift-Enter : 运行本单元，选中下个单元\n",
    "- Ctrl-Enter : 运行本单元\n",
    "- Alt-Enter : 运行本单元，在其下插入新单元    \n",
    "\n",
    "\n",
    "- Y : 单元转入代码状态\n",
    "- M :单元转入markdown状态\n",
    "- R : 单元转入raw状态  \n",
    "\n",
    "\n",
    "- Up : 选中上方单元\n",
    "- K : 选中上方单元\n",
    "- Down : 选中下方单元\n",
    "- J : 选中下方单元  \n",
    "\n",
    "\n",
    "- A : 在上方插入新单元\n",
    "- B : 在下方插入新单元\n",
    "- X : 剪切选中的单元\n",
    "- C : 复制选中的单元\n",
    "- Shift-V : 粘贴到上方单元\n",
    "- V : 粘贴到下方单元  \n",
    "\n",
    "\n",
    "- Z : 恢复删除的最后一个单元\n",
    "- D,D : 删除选中的单元  \n",
    "\n",
    "\n",
    "- Shift-M : 合并选中的单元  \n",
    "\n",
    "\n",
    "- I,I : 中断Notebook内核\n",
    "- 0,0 : 重启Notebook内核\n",
    "\n",
    "\n",
    "- Shift-M : 合并选中的单元"
   ]
  },
  {
   "cell_type": "markdown",
   "metadata": {},
   "source": [
    "## 编辑模式 ( Enter 键启动)\n",
    "\n",
    "- Shift-Enter : 运行本单元，选中下一单元\n",
    "- Ctrl-Enter : 运行本单元\n",
    "- Alt-Enter : 运行本单元，在下面插入一单元\n",
    "\n",
    "\n",
    "- Tab : 代码补全或缩进\n",
    "- Shift-Tab : 提示\n",
    "\n",
    "\n",
    "- Ctrl-] : 缩进\n",
    "- Ctrl-[ : 解除缩进\n",
    "\n",
    "\n",
    "- Ctrl-Shift-- : 分割单元\n",
    "\n",
    "\n",
    "\n"
   ]
  }
 ],
 "metadata": {
  "kernelspec": {
   "display_name": "Python 3",
   "language": "python",
   "name": "python3"
  },
  "language_info": {
   "codemirror_mode": {
    "name": "ipython",
    "version": 3
   },
   "file_extension": ".py",
   "mimetype": "text/x-python",
   "name": "python",
   "nbconvert_exporter": "python",
   "pygments_lexer": "ipython3",
   "version": "3.7.4"
  }
 },
 "nbformat": 4,
 "nbformat_minor": 2
}
